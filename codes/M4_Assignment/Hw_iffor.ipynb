{
 "cells": [
  {
   "cell_type": "code",
   "execution_count": 30,
   "id": "43c61910",
   "metadata": {},
   "outputs": [],
   "source": [
    "# Logical Processing Homework\n",
    "\n",
    "# Problem 1 Stacking logical operators\n",
    "\n",
    "# influenza_genome = \n",
    "# [19, 15, 7, 9, 12, 6, 17, 20, 29, 14, 22, 8, 15, 12, 21, 25, 11, 10, 30, 4, 6, 24, 18, 21, 28, 22, 13, 19, 4, 23, 16, 25, 13, 28, 16, 29, 4, 3, 25, 13, 10, 26, 26, 18, 25, 28, 24, 18, 3, 9, 11, 29, 30, 16, 24, 5, 5, 25, 14, 7, 1, 15, 6, 6, 19, 19, 15, 2, 14, 7, 21, 5, 26, 25, 18, 18, 9, 7, 27, 4, 1, 23, 30, 25, 24, 29, 11, 16, 20, 15, 2, 9, 8, 13, 1, 13, 5, 17, 29, 25, 16, 13, 3, 30, 10, 21, 9, 18, 20, 14, 20, 19, 6, 4, 20, 5, 14, 5, 12, 27, 18, 28, 13, 30, 6, 9, 12, 9, 29, 4, 14, 22, 7, 25, 11, 12, 5, 24, 6, 3, 8, 3, 20, 24, 8, 23, 22, 11, 22, 10, 13, 14, 2, 6, 22, 22, 7, 6, 18, 28, 25, 4, 6, 24, 10, 24, 15, 18, 12, 24, 10, 16, 24, 21, 19, 24, 8, 8, 8, 10, 8, 15, 26, 14, 21, 18, 6, 10, 23, 2, 20, 15, 1, 4, 20, 8, 6, 1, 4, 15, 21, 26, 25, 1, 24, 15, 27, 8, 23, 4, 30, 22, 1, 3, 7, 16, 18, 29, 11, 4, 1, 29, 30, 16, 30, 10, 2, 26, 26, 7, 10, 15, 6, 25, 4, 7, 12, 24, 5, 8, 23, 16, 8, 3, 16, 1, 9, 4, 27, 26, 9, 25, 7, 14, 27, 21, 27, 28, 2, 2, 27, 22, 3, 23, 14, 16, 30, 12, 14, 8, 10, 5, 16, 12, 24, 3, 28, 9, 21, 7, 25, 9, 5, 3, 27, 7, 29, 25, 13, 11, 25, 21, 2, 14, 8, 17, 18, 23, 22, 12, 7, 26, 11, 25, 1, 23, 9, 12, 2, 4, 17, 27, 9, 13, 19, 15, 10, 12, 21, 25, 5, 1, 16, 17, 28, 23, 18, 10, 15, 18, 1, 11, 14, 10, 18, 12, 1, 23, 23, 25, 13, 27, 27, 6, 9, 11, 23, 6, 23, 14, 9, 15, 11, 24, 11, 29, 18, 6, 19, 16, 14, 26, 2, 14, 15, 25, 6, 21, 23, 25, 27, 5, 1, 17, 4, 7, 18, 8, 9, 10, 5, 21, 29, 9, 6, 2, 22, 12, 1, 13, 19, 6, 17, 21, 22, 26, 21, 10, 29, 8, 13, 10, 29, 6, 29, 16, 30, 5, 25, 14, 15, 15, 9, 24, 13, 5, 28, 18, 11, 21, 15, 12, 5, 16, 5, 29, 29, 29, 3, 10, 24, 16, 16, 12, 14, 6, 22, 21, 10, 10, 2, 14, 9, 29, 29, 2, 26, 11, 6, 7, 28, 10, 3, 24, 30, 2, 23, 9, 29, 27, 19, 1, 15, 11, 5, 7, 9, 26, 28, 27, 10, 20, 23, 29, 10, 15, 30, 13, 2, 11, 5, 9, 2, 30, 27, 14, 11, 20, 19, 1, 12, 10, 8, 6, 16, 3, 25, 5, 10, 24]\n",
    "\n",
    "# Given the array influenza_genome, write code that uses for loops and if statements to do the following and print the results(see below for instructions):\n",
    "\n",
    "# 1.1 add 1 to the value at the index 300.\n",
    "\n",
    "# 1.2 for the first 30 elements, if the value of the element is divisable by 3, multiply the value by 3.\n",
    "\n",
    "# 1.3 for the last 30 elements, if the index value at that point is divisable by 5, replace the value with \"a\".\n",
    "\n",
    "# 1.4 for all elements between index 200 and 300, if the value of the element is divisable by BOTH 3 AND 5, replace the value with the 10.\n",
    "\n",
    "# Only print the section of the array that is modified after completing each operation. i.e only print index 300 of the array after 1.1 and only the first 30 elements after 1.2\n",
    "\n",
    "\n",
    "\n",
    "\n",
    "\n",
    "# Problem 2 Loops within loops\n",
    "# Given the array influenza_genome, write code using both for and while loops that:\n",
    "\n",
    "# 2.1 Create a for loop that iterates over items index 234 through 237 and prints each value (ie there should be 4 items)\n",
    "\n",
    "# 2.2 Create a while loop that iterates over items index 234 through 237 and prints each value (ie there should be 4 items)\n",
    "\n",
    "# 2.3 Create a for loop that iterates over items index 234 through 237 and if the index is 236 print the item 7 times.\n",
    "\n",
    "\n",
    "\n",
    "\n",
    "# Problem 3 Functions\n",
    "# You are going to implement 3 funtions that will process the influenza_genome list in various ways.\n",
    "\n",
    "# 3.1 write a function, that takes in the array as an argument, and outputs 10 values from the dataset, spaced out by indexes that are 25 apart (ie 0, 25, 50, etc)\n",
    "\n",
    "# 3.2 write a function that takes in the dataset as an argument and outputs 20 values from the dataset, spaced out by indexes that are y apart (ie you can decide how far apart they should be iterated as long as they dont exceed the length of the dataset)\n",
    "\n",
    "# 3.3 write a function that takes the output from the function from 3.2 as an argument, then only prints out every other item (ie there should only be 10 outputs)\n",
    "\n",
    "\n",
    "\n",
    "\n",
    "# Problem 4 Putting it all together\n",
    "# Write a function that implements the code from problem 1.4, then implements the code from problem 2.3.\n",
    "\n",
    "# The function should create a modified version of the influenza_genome list as per 1.4, then print the section described in problem 2.3. "
   ]
  },
  {
   "cell_type": "code",
   "execution_count": 31,
   "id": "d0a46b61",
   "metadata": {},
   "outputs": [],
   "source": [
    "# problem 1"
   ]
  },
  {
   "cell_type": "code",
   "execution_count": 32,
   "id": "367710fd",
   "metadata": {},
   "outputs": [],
   "source": [
    "influenza_genome = \\\n",
    "[19, 15, 7, 9, 12, 6, 17, 20, 29, 14, 22, 8, 15, 12, 21, 25, 11, 10, 30, 4, 6, 24, 18, 21, 28, 22, 13, 19, 4, 23, 16, 25, 13, 28, 16, 29, 4, 3, 25, 13, 10, 26, 26, 18, 25, 28, 24, 18, 3, 9, 11, 29, 30, 16, 24, 5, 5, 25, 14, 7, 1, 15, 6, 6, 19, 19, 15, 2, 14, 7, 21, 5, 26, 25, 18, 18, 9, 7, 27, 4, 1, 23, 30, 25, 24, 29, 11, 16, 20, 15, 2, 9, 8, 13, 1, 13, 5, 17, 29, 25, 16, 13, 3, 30, 10, 21, 9, 18, 20, 14, 20, 19, 6, 4, 20, 5, 14, 5, 12, 27, 18, 28, 13, 30, 6, 9, 12, 9, 29, 4, 14, 22, 7, 25, 11, 12, 5, 24, 6, 3, 8, 3, 20, 24, 8, 23, 22, 11, 22, 10, 13, 14, 2, 6, 22, 22, 7, 6, 18, 28, 25, 4, 6, 24, 10, 24, 15, 18, 12, 24, 10, 16, 24, 21, 19, 24, 8, 8, 8, 10, 8, 15, 26, 14, 21, 18, 6, 10, 23, 2, 20, 15, 1, 4, 20, 8, 6, 1, 4, 15, 21, 26, 25, 1, 24, 15, 27, 8, 23, 4, 30, 22, 1, 3, 7, 16, 18, 29, 11, 4, 1, 29, 30, 16, 30, 10, 2, 26, 26, 7, 10, 15, 6, 25, 4, 7, 12, 24, 5, 8, 23, 16, 8, 3, 16, 1, 9, 4, 27, 26, 9, 25, 7, 14, 27, 21, 27, 28, 2, 2, 27, 22, 3, 23, 14, 16, 30, 12, 14, 8, 10, 5, 16, 12, 24, 3, 28, 9, 21, 7, 25, 9, 5, 3, 27, 7, 29, 25, 13, 11, 25, 21, 2, 14, 8, 17, 18, 23, 22, 12, 7, 26, 11, 25, 1, 23, 9, 12, 2, 4, 17, 27, 9, 13, 19, 15, 10, 12, 21, 25, 5, 1, 16, 17, 28, 23, 18, 10, 15, 18, 1, 11, 14, 10, 18, 12, 1, 23, 23, 25, 13, 27, 27, 6, 9, 11, 23, 6, 23, 14, 9, 15, 11, 24, 11, 29, 18, 6, 19, 16, 14, 26, 2, 14, 15, 25, 6, 21, 23, 25, 27, 5, 1, 17, 4, 7, 18, 8, 9, 10, 5, 21, 29, 9, 6, 2, 22, 12, 1, 13, 19, 6, 17, 21, 22, 26, 21, 10, 29, 8, 13, 10, 29, 6, 29, 16, 30, 5, 25, 14, 15, 15, 9, 24, 13, 5, 28, 18, 11, 21, 15, 12, 5, 16, 5, 29, 29, 29, 3, 10, 24, 16, 16, 12, 14, 6, 22, 21, 10, 10, 2, 14, 9, 29, 29, 2, 26, 11, 6, 7, 28, 10, 3, 24, 30, 2, 23, 9, 29, 27, 19, 1, 15, 11, 5, 7, 9, 26, 28, 27, 10, 20, 23, 29, 10, 15, 30, 13, 2, 11, 5, 9, 2, 30, 27, 14, 11, 20, 19, 1, 12, 10, 8, 6, 16, 3, 25, 5, 10, 24]"
   ]
  },
  {
   "cell_type": "code",
   "execution_count": 33,
   "id": "76f58207",
   "metadata": {},
   "outputs": [
    {
     "data": {
      "text/plain": [
       "500"
      ]
     },
     "execution_count": 33,
     "metadata": {},
     "output_type": "execute_result"
    }
   ],
   "source": [
    "len(influenza_genome)"
   ]
  },
  {
   "cell_type": "code",
   "execution_count": 34,
   "id": "25c4d7c2",
   "metadata": {},
   "outputs": [],
   "source": [
    "# 1.1 \n",
    "influenza_genome[300] += 1"
   ]
  },
  {
   "cell_type": "code",
   "execution_count": 35,
   "id": "14b0484d",
   "metadata": {},
   "outputs": [
    {
     "name": "stdout",
     "output_type": "stream",
     "text": [
      "8\n"
     ]
    }
   ],
   "source": [
    "print(influenza_genome[300])"
   ]
  },
  {
   "cell_type": "code",
   "execution_count": 36,
   "id": "e94467a4",
   "metadata": {},
   "outputs": [],
   "source": [
    "# 1.2\n",
    "for i in range(30):\n",
    "    if influenza_genome[i] % 3 == 0:\n",
    "        influenza_genome[i] = influenza_genome[i]*3"
   ]
  },
  {
   "cell_type": "code",
   "execution_count": 37,
   "id": "7d8c36d6",
   "metadata": {},
   "outputs": [
    {
     "name": "stdout",
     "output_type": "stream",
     "text": [
      "[19, 45, 7, 27, 36, 18, 17, 20, 29, 14, 22, 8, 45, 36, 63, 25, 11, 10, 90, 4, 18, 72, 54, 63, 28, 22, 13, 19, 4, 23]\n"
     ]
    }
   ],
   "source": [
    "print(influenza_genome[:30])"
   ]
  },
  {
   "cell_type": "code",
   "execution_count": 38,
   "id": "48a03496",
   "metadata": {},
   "outputs": [],
   "source": [
    "# 1.3"
   ]
  },
  {
   "cell_type": "code",
   "execution_count": 39,
   "id": "1c722f2f",
   "metadata": {},
   "outputs": [],
   "source": [
    "for i in range(1,31):\n",
    "    if influenza_genome[-i] % 5 == 0:\n",
    "        influenza_genome[-i] = 'a'"
   ]
  },
  {
   "cell_type": "code",
   "execution_count": 40,
   "id": "50735384",
   "metadata": {},
   "outputs": [
    {
     "name": "stdout",
     "output_type": "stream",
     "text": [
      "[27, 'a', 'a', 23, 29, 'a', 'a', 'a', 13, 2, 11, 'a', 9, 2, 'a', 27, 14, 11, 'a', 19, 1, 12, 'a', 8, 6, 16, 3, 'a', 'a', 'a', 24]\n"
     ]
    }
   ],
   "source": [
    "print(influenza_genome[-31:])"
   ]
  },
  {
   "cell_type": "code",
   "execution_count": 41,
   "id": "3dba7178",
   "metadata": {},
   "outputs": [],
   "source": [
    "# 1.4"
   ]
  },
  {
   "cell_type": "code",
   "execution_count": 42,
   "id": "08a56863",
   "metadata": {},
   "outputs": [],
   "source": [
    "for i in range(200,301):\n",
    "    if influenza_genome[i] % 15 == 0:\n",
    "        influenza_genome[i] = 10"
   ]
  },
  {
   "cell_type": "code",
   "execution_count": 43,
   "id": "19456ade",
   "metadata": {},
   "outputs": [
    {
     "name": "stdout",
     "output_type": "stream",
     "text": [
      "[21, 26, 25, 1, 24, 10, 27, 8, 23, 4, 10, 22, 1, 3, 7, 16, 18, 29, 11, 4, 1, 29, 10, 16, 10, 10, 2, 26, 26, 7, 10, 10, 6, 25, 4, 7, 12, 24, 5, 8, 23, 16, 8, 3, 16, 1, 9, 4, 27, 26, 9, 25, 7, 14, 27, 21, 27, 28, 2, 2, 27, 22, 3, 23, 14, 16, 10, 12, 14, 8, 10, 5, 16, 12, 24, 3, 28, 9, 21, 7, 25, 9, 5, 3, 27, 7, 29, 25, 13, 11, 25, 21, 2, 14, 8, 17, 18, 23, 22, 12, 8]\n"
     ]
    }
   ],
   "source": [
    "print(influenza_genome[200:301])"
   ]
  },
  {
   "cell_type": "code",
   "execution_count": 44,
   "id": "0ff92486",
   "metadata": {},
   "outputs": [
    {
     "name": "stdout",
     "output_type": "stream",
     "text": [
      "4\n",
      "7\n",
      "12\n",
      "24\n"
     ]
    }
   ],
   "source": [
    "# 2.1\n",
    "for i in range(234,238):\n",
    "    print(influenza_genome[i])"
   ]
  },
  {
   "cell_type": "code",
   "execution_count": 45,
   "id": "00c4f41e",
   "metadata": {},
   "outputs": [
    {
     "name": "stdout",
     "output_type": "stream",
     "text": [
      "4\n",
      "7\n",
      "12\n",
      "24\n"
     ]
    }
   ],
   "source": [
    "# 2.2\n",
    "i = 234\n",
    "while i <238:\n",
    "    print(influenza_genome[i])\n",
    "    i += 1"
   ]
  },
  {
   "cell_type": "code",
   "execution_count": 46,
   "id": "61d4f03a",
   "metadata": {},
   "outputs": [
    {
     "name": "stdout",
     "output_type": "stream",
     "text": [
      "12\n",
      "12\n",
      "12\n",
      "12\n",
      "12\n",
      "12\n",
      "12\n"
     ]
    }
   ],
   "source": [
    "# 2.3\n",
    "count = 0\n",
    "for i in range(234,238):\n",
    "    if i == 236:\n",
    "        \n",
    "        while count <7:\n",
    "            print(influenza_genome[i])\n",
    "            count += 1"
   ]
  },
  {
   "cell_type": "code",
   "execution_count": 47,
   "id": "95be513c",
   "metadata": {},
   "outputs": [],
   "source": [
    "# 3.1\n",
    "def ten_values(array):\n",
    "    ten_values_ls = []\n",
    "    for i in range(len(array)):\n",
    "        if len(ten_values_ls) < 10:\n",
    "            if i % 25 == 0:\n",
    "                ten_values_ls.append(array[i])\n",
    "    return(ten_values_ls)"
   ]
  },
  {
   "cell_type": "code",
   "execution_count": 48,
   "id": "029cc6a5",
   "metadata": {},
   "outputs": [
    {
     "data": {
      "text/plain": [
       "[19, 22, 11, 18, 16, 9, 13, 24, 21, 10]"
      ]
     },
     "execution_count": 48,
     "metadata": {},
     "output_type": "execute_result"
    }
   ],
   "source": [
    "ten_values(influenza_genome)"
   ]
  },
  {
   "cell_type": "code",
   "execution_count": 49,
   "id": "1440d87a",
   "metadata": {},
   "outputs": [],
   "source": [
    "# 3.2\n",
    "def twenty_values(array,y):\n",
    "    twenty_values_ls = []\n",
    "    for i in range(len(array)):\n",
    "        if len(twenty_values_ls) < 20:\n",
    "            if i % y == 0:\n",
    "                twenty_values_ls.append(array[i])\n",
    "    return(twenty_values_ls)"
   ]
  },
  {
   "cell_type": "code",
   "execution_count": 50,
   "id": "449f3771",
   "metadata": {},
   "outputs": [
    {
     "data": {
      "text/plain": [
       "[19, 36, 29, 45, 11, 18, 28, 4, 13, 4, 10, 25, 3, 30, 5, 1, 19, 14, 26, 9]"
      ]
     },
     "execution_count": 50,
     "metadata": {},
     "output_type": "execute_result"
    }
   ],
   "source": [
    "twenty_values(influenza_genome,4)"
   ]
  },
  {
   "cell_type": "code",
   "execution_count": 51,
   "id": "36cbb9b6",
   "metadata": {},
   "outputs": [],
   "source": [
    "# 3.3\n",
    "def every_other(array):\n",
    "    every_other_ls = []\n",
    "    for i in range(len(array)):\n",
    "        if i % 2 == 0:\n",
    "            every_other_ls.append(array[i])\n",
    "    return(every_other_ls)"
   ]
  },
  {
   "cell_type": "code",
   "execution_count": 52,
   "id": "44870ffb",
   "metadata": {},
   "outputs": [
    {
     "data": {
      "text/plain": [
       "[19, 29, 11, 28, 13, 10, 3, 5, 19, 26]"
      ]
     },
     "execution_count": 52,
     "metadata": {},
     "output_type": "execute_result"
    }
   ],
   "source": [
    "every_other(twenty_values(influenza_genome,4))"
   ]
  },
  {
   "cell_type": "code",
   "execution_count": 53,
   "id": "96717e56",
   "metadata": {},
   "outputs": [
    {
     "data": {
      "text/plain": [
       "10"
      ]
     },
     "execution_count": 53,
     "metadata": {},
     "output_type": "execute_result"
    }
   ],
   "source": [
    "len(every_other(twenty_values(influenza_genome,4)))"
   ]
  },
  {
   "cell_type": "code",
   "execution_count": 54,
   "id": "540333f2",
   "metadata": {},
   "outputs": [],
   "source": [
    "# Problem 4"
   ]
  },
  {
   "cell_type": "code",
   "execution_count": 55,
   "id": "99d6e493",
   "metadata": {},
   "outputs": [],
   "source": [
    "def influenza_genome_modify(influenza_genome):\n",
    "    # 1.4\n",
    "    for i in range(200,301):\n",
    "        if influenza_genome[i] % 15 == 0:\n",
    "            influenza_genome[i] = 10\n",
    "    # 2.3    \n",
    "    count = 0\n",
    "    for i in range(234,238):\n",
    "        if i == 236:\n",
    "            while count <7:\n",
    "                print(influenza_genome[i])\n",
    "                count += 1\n",
    "    return(influenza_genome)"
   ]
  },
  {
   "cell_type": "code",
   "execution_count": 56,
   "id": "6f9e9c7d",
   "metadata": {},
   "outputs": [
    {
     "name": "stdout",
     "output_type": "stream",
     "text": [
      "12\n",
      "12\n",
      "12\n",
      "12\n",
      "12\n",
      "12\n",
      "12\n"
     ]
    }
   ],
   "source": [
    "influenza_genome_modify = influenza_genome_modify(influenza_genome)"
   ]
  },
  {
   "cell_type": "code",
   "execution_count": null,
   "id": "2662b01c",
   "metadata": {},
   "outputs": [],
   "source": []
  }
 ],
 "metadata": {
  "kernelspec": {
   "display_name": "Python 3 (ipykernel)",
   "language": "python",
   "name": "python3"
  },
  "language_info": {
   "codemirror_mode": {
    "name": "ipython",
    "version": 3
   },
   "file_extension": ".py",
   "mimetype": "text/x-python",
   "name": "python",
   "nbconvert_exporter": "python",
   "pygments_lexer": "ipython3",
   "version": "3.9.12"
  },
  "vscode": {
   "interpreter": {
    "hash": "acb7b9ebd37b6fa8637fd3027108c77b651ce6aaaec9072fd616444dc2b10c19"
   }
  }
 },
 "nbformat": 4,
 "nbformat_minor": 5
}
