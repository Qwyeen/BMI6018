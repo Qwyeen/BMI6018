{
 "cells": [
  {
   "cell_type": "code",
   "execution_count": 2,
   "id": "2f0c2af3",
   "metadata": {},
   "outputs": [],
   "source": [
    "def recur_innermost_plus(input_list):\n",
    "    # if there is no nested list\n",
    "    if all(not isinstance(i, list) for i in input_list):\n",
    "        return [x + 1 for x in input_list]\n",
    "    \n",
    "    for i in input_list:\n",
    "        if isinstance(i, list):\n",
    "            return recur_innermost_plus(i)"
   ]
  },
  {
   "cell_type": "code",
   "execution_count": 4,
   "id": "2bfa8701",
   "metadata": {},
   "outputs": [
    {
     "name": "stdout",
     "output_type": "stream",
     "text": [
      "[9, 10]\n"
     ]
    }
   ],
   "source": [
    "input_list = [1, 2, 3, 4, [5, 6, 7, [8, 9]]]\n",
    "result = recur_innermost_plus(input_list)\n",
    "print(result)"
   ]
  },
  {
   "cell_type": "code",
   "execution_count": null,
   "id": "70753aaa",
   "metadata": {},
   "outputs": [],
   "source": []
  }
 ],
 "metadata": {
  "kernelspec": {
   "display_name": "Python 3 (ipykernel)",
   "language": "python",
   "name": "python3"
  },
  "language_info": {
   "codemirror_mode": {
    "name": "ipython",
    "version": 3
   },
   "file_extension": ".py",
   "mimetype": "text/x-python",
   "name": "python",
   "nbconvert_exporter": "python",
   "pygments_lexer": "ipython3",
   "version": "3.9.12"
  }
 },
 "nbformat": 4,
 "nbformat_minor": 5
}
