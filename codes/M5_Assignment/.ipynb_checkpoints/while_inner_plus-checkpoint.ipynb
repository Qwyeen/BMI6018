{
 "cells": [
  {
   "cell_type": "code",
   "execution_count": 5,
   "id": "a721ccb0",
   "metadata": {},
   "outputs": [],
   "source": [
    "def find_innermost_list(input_list):\n",
    "    while any(isinstance(i,list) for i in input_list):\n",
    "        for j in input_list:\n",
    "             if isinstance(j,list):\n",
    "                  input_list = j\n",
    "                  break\n",
    "    return[i+1 for i in input_list]"
   ]
  },
  {
   "cell_type": "code",
   "execution_count": 8,
   "id": "abe8c5bc",
   "metadata": {},
   "outputs": [
    {
     "name": "stdout",
     "output_type": "stream",
     "text": [
      "[9, 10]\n"
     ]
    }
   ],
   "source": [
    "input_list = [1,2,3,4,[5,6,7,[8,9]]]\n",
    "result = find_innermost_list(input_list)\n",
    "print(result)"
   ]
  },
  {
   "cell_type": "code",
   "execution_count": null,
   "id": "8d9f15c0",
   "metadata": {},
   "outputs": [],
   "source": []
  }
 ],
 "metadata": {
  "kernelspec": {
   "display_name": "Python 3 (ipykernel)",
   "language": "python",
   "name": "python3"
  },
  "language_info": {
   "codemirror_mode": {
    "name": "ipython",
    "version": 3
   },
   "file_extension": ".py",
   "mimetype": "text/x-python",
   "name": "python",
   "nbconvert_exporter": "python",
   "pygments_lexer": "ipython3",
   "version": "3.9.12"
  }
 },
 "nbformat": 4,
 "nbformat_minor": 5
}
