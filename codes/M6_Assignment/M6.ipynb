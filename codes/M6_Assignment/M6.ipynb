{
 "cells": [
  {
   "cell_type": "code",
   "execution_count": 11,
   "id": "80a424fa",
   "metadata": {},
   "outputs": [
    {
     "name": "stdout",
     "output_type": "stream",
     "text": [
      "We are making an error in the loop: The correct answer is supposed to be 2\n",
      "We are making an error in the loop: The correct answer is supposed to be 3\n",
      "We are making an error in the loop: The correct answer is supposed to be 4\n"
     ]
    },
    {
     "data": {
      "text/plain": [
       "[6, 9, 12]"
      ]
     },
     "execution_count": 11,
     "metadata": {},
     "output_type": "execute_result"
    }
   ],
   "source": [
    "# 1.a\n",
    "def wrong_add_function(arg1, arg2):\n",
    "    arg1_index = 0\n",
    "    while arg1_index < len(arg1):\n",
    "        arg_2_sum = 0\n",
    "        for arg2_elements in arg2:\n",
    "            arg_2_sum = sum([arg1[arg1_index] + i for i in arg2])\n",
    "        print(f\"We are making an error in the loop: The correct answer is supposed to be {arg1[arg1_index] + arg2[arg1_index]}\")\n",
    "        arg1[arg1_index] = arg_2_sum\n",
    "        arg1_index += 1\n",
    "    return arg1\n",
    "\n",
    "arg1 = [1, 2, 3]\n",
    "arg2 = [1, 1, 1]\n",
    "wrong_add_function(arg1, arg2)"
   ]
  },
  {
   "cell_type": "code",
   "execution_count": 10,
   "id": "f50fe825",
   "metadata": {},
   "outputs": [
    {
     "name": "stdout",
     "output_type": "stream",
     "text": [
      "[2, 3, 4]\n"
     ]
    }
   ],
   "source": [
    "# 1.b\n",
    "def correct_add_function(arg1, arg2):\n",
    "    arg1_index = 0\n",
    "    while arg1_index < len(arg1):\n",
    "        arg1[arg1_index] += arg2[arg1_index]\n",
    "        arg1_index += 1\n",
    "    return arg1\n",
    "\n",
    "arg1 = [1, 2, 3]\n",
    "arg2 = [1, 1, 1]\n",
    "print(correct_add_function([1, 2, 3], [1, 1, 1]))\n"
   ]
  },
  {
   "cell_type": "code",
   "execution_count": null,
   "id": "1b955b35",
   "metadata": {},
   "outputs": [],
   "source": [
    "'''\n",
    "1 is so confusing to me, in the instruction, it says \n",
    "the function takes in two lists of integers, then it adds all of arg2 to each item of arg1.\n",
    "From my understanding, [1,2,3],[1,1,1] should output [4,5,6]\n",
    "But the example of input [1,2,3],[1,1,1] and output [2,3,4] adds corresponding elements from arg2 to arg1.\n",
    "\n",
    "2 describes the function in the same way but outpus [4,5,6] from [1,2,3],[1,1,1]\n",
    "\n",
    "So I did the first question outputting [2,3,4] and the second question outputting [4,5,6]\n",
    "'''"
   ]
  },
  {
   "cell_type": "code",
   "execution_count": null,
   "id": "a179ba3a",
   "metadata": {},
   "outputs": [],
   "source": []
  },
  {
   "cell_type": "code",
   "execution_count": 37,
   "id": "6ab162c0",
   "metadata": {},
   "outputs": [
    {
     "name": "stdout",
     "output_type": "stream",
     "text": [
      "Mixed type error. 0 is <class 'str'>,1 is <class 'str'>, 2 is <class 'int'>.\n",
      "[4, 5, 6]\n",
      "['1111', '2111', '3111']\n"
     ]
    }
   ],
   "source": [
    "# 2.b\n",
    "def exception_add_function(arg1, arg2):\n",
    "    try:\n",
    "        if all(isinstance(i, int) for i in arg1) and all(isinstance(i, int) for i in arg2):\n",
    "            # Numeric section\n",
    "            arg1_index = 0\n",
    "            while arg1_index < len(arg1):\n",
    "                arg1[arg1_index] += sum(arg2)\n",
    "                arg1_index += 1\n",
    "        elif all(isinstance(i, str) for i in arg1) and all(isinstance(i, str) for i in arg2):\n",
    "            # String section\n",
    "            arg1_index = 0\n",
    "            while arg1_index < len(arg1):\n",
    "                arg_2_sum = ''.join(arg2)  # Concatenate all elements of arg2\n",
    "                arg1[arg1_index] = arg1[arg1_index] + arg_2_sum\n",
    "                arg1_index += 1\n",
    "        else:\n",
    "            # If types in arg1 or arg2 are mixed or mismatched\n",
    "            ls_type = []\n",
    "            ls_index = []\n",
    "            for idx, elem in enumerate(arg1):\n",
    "                ls_type.append(type(elem))\n",
    "                ls_index.append(idx)\n",
    "                if len(set(ls_type)) > 1:\n",
    "                    raise TypeError(\"Mixed type error. {} is {},{} is {}, {} is {}.\"\\\n",
    "                                    .format(ls_index[0],ls_type[0],ls_index[1],ls_type[1],ls_index[2],ls_type[2]))\n",
    "                    # raise TypeError(f\"Your input argument 1 at element {idx} is not of the expected type.\")\n",
    "            for idx, elem in enumerate(arg2):\n",
    "                if not isinstance(elem, (int, str)):\n",
    "                    raise TypeError(f\"Your input argument 2 at element {idx} is not of the expected type.\")\n",
    "            raise TypeError(\"Mixed types are not allowed. Both arguments must be either all integers or all strings.\")\n",
    "    except TypeError as e:\n",
    "        return str(e)\n",
    "\n",
    "    return arg1\n",
    "\n",
    "# Testing the function with mixed input types\n",
    "arg1 = [\"5\", \"2\", 5]\n",
    "arg2 = [\"1\", \"1\", \"1\"]\n",
    "print(exception_add_function(arg1, arg2))  # Should return an error message\n",
    "\n",
    "arg1 = [1, 2, 3]\n",
    "arg2 = [1, 1, 1]\n",
    "print(exception_add_function(arg1, arg2))  # Should return [4, 5, 6]\n",
    "\n",
    "arg1 = [\"1\", \"2\", \"3\"]\n",
    "arg2 = [\"1\", \"1\", \"1\"]\n",
    "print(exception_add_function(arg1, arg2))  # Should return ['1111', '2111', '3111']"
   ]
  },
  {
   "cell_type": "code",
   "execution_count": 54,
   "id": "a605313a",
   "metadata": {},
   "outputs": [
    {
     "name": "stdout",
     "output_type": "stream",
     "text": [
      "[4, 5, 6]\n",
      "['1111', '2111', '3111']\n",
      "['5111', '2111', '5111']\n"
     ]
    }
   ],
   "source": [
    "# 2.c\n",
    "def correction_add_function(arg1, arg2):\n",
    "    try:\n",
    "        # Try running the original function with the given inputs\n",
    "        return wrong_add_function(arg1, arg2)\n",
    "    \n",
    "    except TypeError as e:\n",
    "        # If a TypeError is raised, we handle it here by converting everything to strings\n",
    "        if str(e) == \"Type is mixed\":\n",
    "            # Convert all elements in arg1 and arg2 to strings\n",
    "            arg1_str = [str(item) for item in arg1]\n",
    "            arg2_str = [str(item) for item in arg2]\n",
    "            \n",
    "            # Now call the original function again, but with all elements as strings\n",
    "            return wrong_add_function(arg1_str, arg2_str)\n",
    "        else:\n",
    "            # If any other type of error is raised, re-raise it\n",
    "            raise e\n",
    "\n",
    "def wrong_add_function(arg1,arg2):\n",
    "    #numeric section\n",
    "    if sum([type(i)==int for i in arg1])==len(arg1) and \\\n",
    "      sum([type(i)==int for i in arg2])==len(arg2):\n",
    "        arg1_index = 0\n",
    "        while arg1_index < len(arg1):\n",
    "            arg1[arg1_index] += sum(arg2)\n",
    "            arg1_index += 1\n",
    "   #string section\n",
    "    elif sum([type(i)==str for i in arg1])==len(arg1) and \\\n",
    "      sum([type(i)==str for i in arg2])==len(arg2):\n",
    "            # String section\n",
    "            arg1_index = 0\n",
    "            while arg1_index < len(arg1):\n",
    "                arg_2_sum = ''.join(arg2)  # Concatenate all elements of arg2\n",
    "                arg1[arg1_index] = arg1[arg1_index] + arg_2_sum\n",
    "                arg1_index += 1\n",
    "    else:\n",
    "        raise TypeError(\"Type is mixed\")\n",
    "    return arg1\n",
    "\n",
    "\n",
    "arg1 = [1, 2, 3]\n",
    "arg2 = [1, 1, 1]\n",
    " \n",
    "print(correction_add_function(arg1,arg2))\n",
    "\n",
    "arg1 = [\"1\", \"2\", \"3\"]\n",
    "arg2 = [\"1\", \"1\", \"1\"]\n",
    "\n",
    "print(correction_add_function(arg1,arg2)) \n",
    "            \n",
    "\n",
    "arg1 = [\"5\", \"2\", 5]\n",
    "arg2 = [\"1\", \"1\", \"1\"]\n",
    "print(correction_add_function(arg1, arg2))\n"
   ]
  },
  {
   "cell_type": "code",
   "execution_count": null,
   "id": "645db603",
   "metadata": {},
   "outputs": [],
   "source": []
  }
 ],
 "metadata": {
  "kernelspec": {
   "display_name": "Python 3 (ipykernel)",
   "language": "python",
   "name": "python3"
  },
  "language_info": {
   "codemirror_mode": {
    "name": "ipython",
    "version": 3
   },
   "file_extension": ".py",
   "mimetype": "text/x-python",
   "name": "python",
   "nbconvert_exporter": "python",
   "pygments_lexer": "ipython3",
   "version": "3.9.12"
  }
 },
 "nbformat": 4,
 "nbformat_minor": 5
}
