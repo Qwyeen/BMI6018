{
 "cells": [
  {
   "cell_type": "code",
   "execution_count": 5,
   "id": "43c61910",
   "metadata": {},
   "outputs": [
    {
     "name": "stdout",
     "output_type": "stream",
     "text": [
      "Assignment 3\n"
     ]
    }
   ],
   "source": [
    "\"\"\"BMI 6018 Fall 2022 \n",
    "\n",
    "Instructions: For this assignment, please return all answers as variables in your\n",
    ".py file. You will quickly note that you will need to find answers outside the\n",
    "class lectures. This is not an accident! You will need to become professionally\n",
    "comfortable with looking things up via the python docs and google. \n",
    "\n",
    "Ensure that all variables are labelled according to the example. IE the answer\n",
    "to problem 1 part c should be labelled one_c. While all questions are answerable\n",
    "with a single line of code, you are free to use helper variables so long as they\n",
    "are helpfully/informatively named. \n",
    "\n",
    "I should be able to open your .py file and run it without errors. I will **not** be \n",
    "debugging your code for you. If your file does not run, it will **not** be graded. \n",
    "If you are unsure if your file will run, open up a chpc terminal and test it there.\n",
    "\n",
    "For this assignment, please only use base python files types. That is: there \n",
    "should be no import calls in your file save my use of sys at the end.\n",
    "\n",
    "Example Problem\n",
    "\n",
    "0.a Create a list of strings\n",
    "0.b Using a str method, capitalize one of the elements in the list using a slice\n",
    "0.c Coerce one character of the list to display as a hex\n",
    "\n",
    "zero_a = ['first','second','third','fourth','fifth']\n",
    "zero_b = zero_a[1].upper()\n",
    "zero_c = hex(ord(zero_a[1][1]))\n",
    "\n",
    "#Problem 1: Lists, Sets and Coersion\n",
    "\n",
    "1.a Create a list of integers no fewer than 10 items from 0 to 9.\n",
    " .b Add 3 to the 5th indexed element\n",
    " .c Coerce all elements in the list to floats using list comprehension\n",
    " .d Coerce the list to a set\n",
    " .e Using a method, append int 10 to the set\n",
    " .f Using a method, pop an item from the set\n",
    " .g Using a length counting function, count the number of items in the set\n",
    " .h Check if the number of items in the set is the same as the \n",
    "    number of items in the list\n",
    " .i Coerce the set to a list and use the \"+\" operator combine the list to the list from 1.a\n",
    " .j Coerce 1.i to a set\n",
    " .k Count the number of elements in the 1.j\n",
    "\n",
    "\n",
    "\n",
    "Problem 2: Dictionary woes\n",
    "\n",
    "2.a Combine the three sample dictionaries (given below) into a nested dictionary (nested in programming means joined), named \n",
    "    two_a, ensure the key names are the same as the dictionary names.\n",
    " .b Using keys, retrieve the Dango's name from 2.a\n",
    " .c Using keys, update the value of Mochi's year to 2018. This should not be a variable\n",
    "    and should simply update 2.a.\n",
    " .d Manually create a dictionary that has a single level and contains each patient\n",
    "    as the key and the year as the value. Set Mochi's year to 2019.'\n",
    " .e Coerce the keys of 2.d into a list\n",
    " .f Coerce the values of 2.d into a list\n",
    " .g Use the zip function to combine 2.e and 2.f into a dictionary again\n",
    "\n",
    "\n",
    "two_patient_dictionary_kinoko = {\n",
    "  \"name\" : \"Kinoko\",\n",
    "  \"year\" : 2021\n",
    "}\n",
    "two_patient_dictionary_dango = {\n",
    "  \"name\" : \"Dango\",\n",
    "  \"year\" : 2019\n",
    "}\n",
    "two_patient_dictionary_mochi  = {\n",
    "  \"name\" : \"Mochi\",\n",
    "  \"year\" : 2020\n",
    "}\n",
    "\n",
    "\n",
    "\n",
    "Problem 3: Set combinations\n",
    "\n",
    "Given the predefined sets below and using set methods\n",
    "3.a Is set E a subset of set A\n",
    " .b Is set E a strict subset of set A\n",
    " .c Create a set that is the intersection of set A and set B\n",
    " .d Create a set that is the union of sets C, D and E\n",
    " .e add 9 to the set\n",
    " .f Using == compare this set to the list in one_a\n",
    " .g Explain why they are not the same. What would you need to change if you\n",
    "    wanted this to be True?\n",
    " \n",
    "\n",
    "three_setA = {1,2,3,4,5}\n",
    "three_setB = {2,3,4,5,6}\n",
    "three_setC = {3,5,7,9}\n",
    "three_setD = {2,4,6,8}\n",
    "three_setE = {1,2,3,4}\n",
    "\n",
    "\n",
    "\n",
    "Problem 4: Changing variable types\n",
    "\n",
    "For each step you will modify a variable, then append the type of the variable\n",
    "to a list. Do not recreate the list variable, it should be a running list of \n",
    "types.\n",
    "\n",
    "4.a Create a variable of type int with the value of 8\n",
    " .b Create an empty list \n",
    " .c Using type(), add the type of 4.a to this list\n",
    " .d Add 0.39 to 4.c\n",
    " .e append the type of 0.39 to the list\n",
    " .f exponentiate to the -10, ie: 4.d^-10,(hint: there might be an artihmetic operator to do so) round it to no \n",
    "    decimal places, and append to list.\n",
    " .g append the type to the list\n",
    " \n",
    " \n",
    "Problem 5: More variable type changes\n",
    "\n",
    "Continue from where you left off in Problem 4.\n",
    "\n",
    "5.a Manually create a dictionary where the values are items in the list from where we left in \n",
    "    problem 4, and the keys should be their index in the list. Print the dictionary.\n",
    " .b Add 300 and coerce it into a string\n",
    " .c append the type to the list\n",
    " .d slice the string up to the 2nd element\n",
    " .e append the type to the list\n",
    " .f use list comprehension to convert this into a new list of integers\n",
    " .g append the type to the list\n",
    " .h append the type of three_setA to the list\n",
    "\"\"\"\n",
    "\n",
    "#Start your assignment here\n",
    "print(\"Assignment 3\")\n",
    "\n"
   ]
  },
  {
   "cell_type": "code",
   "execution_count": 1,
   "id": "367710fd",
   "metadata": {},
   "outputs": [],
   "source": [
    "# Problem 1: Lists, Sets and Coersion"
   ]
  },
  {
   "cell_type": "code",
   "execution_count": 9,
   "id": "00a4321f",
   "metadata": {},
   "outputs": [],
   "source": [
    "one_a = [0, 1, 2, 3, 4, 5, 6, 7, 8, 9]"
   ]
  },
  {
   "cell_type": "code",
   "execution_count": 10,
   "id": "ffbce5a1",
   "metadata": {},
   "outputs": [],
   "source": [
    "one_b = one_a.copy()\n",
    "one_b[5] = one_b[5]+3"
   ]
  },
  {
   "cell_type": "code",
   "execution_count": 13,
   "id": "da411589",
   "metadata": {},
   "outputs": [],
   "source": [
    "one_c = [float(i) for i in one_b]"
   ]
  },
  {
   "cell_type": "code",
   "execution_count": 15,
   "id": "7511b67b",
   "metadata": {},
   "outputs": [],
   "source": [
    "one_d = set(one_c)"
   ]
  },
  {
   "cell_type": "code",
   "execution_count": 26,
   "id": "8283f402",
   "metadata": {},
   "outputs": [],
   "source": [
    "one_e = one_d.copy()\n",
    "one_e.add(10)"
   ]
  },
  {
   "cell_type": "code",
   "execution_count": 30,
   "id": "acd753ab",
   "metadata": {},
   "outputs": [
    {
     "data": {
      "text/plain": [
       "0.0"
      ]
     },
     "execution_count": 30,
     "metadata": {},
     "output_type": "execute_result"
    }
   ],
   "source": [
    "one_f = one_e.copy()\n",
    "one_f.pop()"
   ]
  },
  {
   "cell_type": "code",
   "execution_count": 32,
   "id": "7b3d4b24",
   "metadata": {},
   "outputs": [],
   "source": [
    "one_g = len(one_f)"
   ]
  },
  {
   "cell_type": "code",
   "execution_count": 35,
   "id": "dfa5dc6b",
   "metadata": {},
   "outputs": [],
   "source": [
    "one_h = len(set(one_f)) == len(list(one_f))"
   ]
  },
  {
   "cell_type": "code",
   "execution_count": 37,
   "id": "aa500bfc",
   "metadata": {},
   "outputs": [],
   "source": [
    "one_i = list(one_f) + list(one_a)"
   ]
  },
  {
   "cell_type": "code",
   "execution_count": 39,
   "id": "cb231142",
   "metadata": {},
   "outputs": [],
   "source": [
    "one_j = set(one_i)"
   ]
  },
  {
   "cell_type": "code",
   "execution_count": 40,
   "id": "e836659b",
   "metadata": {},
   "outputs": [],
   "source": [
    "one_k = len(one_j)"
   ]
  },
  {
   "cell_type": "code",
   "execution_count": 58,
   "id": "d6db800d",
   "metadata": {},
   "outputs": [],
   "source": [
    "# Problem 2: Dictionary woes"
   ]
  },
  {
   "cell_type": "code",
   "execution_count": 44,
   "id": "8f0b1fc5",
   "metadata": {},
   "outputs": [],
   "source": [
    "two_patient_dictionary_kinoko = {\n",
    "  \"name\" : \"Kinoko\",\n",
    "  \"year\" : 2021\n",
    "}\n",
    "two_patient_dictionary_dango = {\n",
    "  \"name\" : \"Dango\",\n",
    "  \"year\" : 2019\n",
    "}\n",
    "two_patient_dictionary_mochi  = {\n",
    "  \"name\" : \"Mochi\",\n",
    "  \"year\" : 2020\n",
    "}"
   ]
  },
  {
   "cell_type": "code",
   "execution_count": 45,
   "id": "2525d939",
   "metadata": {},
   "outputs": [],
   "source": [
    "two_a = {\n",
    "    \"two_patient_dictionary_kinoko\": two_patient_dictionary_kinoko,\n",
    "    \"two_patient_dictionary_dango\": two_patient_dictionary_dango,\n",
    "    \"two_patient_dictionary_mochi\": two_patient_dictionary_mochi\n",
    "}"
   ]
  },
  {
   "cell_type": "code",
   "execution_count": 46,
   "id": "a8f48779",
   "metadata": {},
   "outputs": [],
   "source": [
    "two_b = two_patient_dictionary_dango['name']"
   ]
  },
  {
   "cell_type": "code",
   "execution_count": 48,
   "id": "43980d5e",
   "metadata": {},
   "outputs": [],
   "source": [
    "# two_c\n",
    "two_a['two_patient_dictionary_mochi']['year'] = 2018"
   ]
  },
  {
   "cell_type": "code",
   "execution_count": 50,
   "id": "fc875d3d",
   "metadata": {},
   "outputs": [],
   "source": [
    "two_d = {'Kinoko':2021,'Dango':2019,'Mochi':2019}"
   ]
  },
  {
   "cell_type": "code",
   "execution_count": 51,
   "id": "9f30a92a",
   "metadata": {},
   "outputs": [],
   "source": [
    "two_e = list(two_d.keys())"
   ]
  },
  {
   "cell_type": "code",
   "execution_count": 53,
   "id": "9af39bbb",
   "metadata": {},
   "outputs": [],
   "source": [
    "two_f = list(two_d.values())"
   ]
  },
  {
   "cell_type": "code",
   "execution_count": 56,
   "id": "89b56fd1",
   "metadata": {},
   "outputs": [],
   "source": [
    "two_g = dict(zip(two_e, two_f))"
   ]
  },
  {
   "cell_type": "code",
   "execution_count": 57,
   "id": "49200c89",
   "metadata": {},
   "outputs": [
    {
     "data": {
      "text/plain": [
       "{'Kinoko': 2021, 'Dango': 2019, 'Mochi': 2019}"
      ]
     },
     "execution_count": 57,
     "metadata": {},
     "output_type": "execute_result"
    }
   ],
   "source": [
    "Problem 3: Set combinations\n",
    "\n",
    "Given the predefined sets below and using set methods\n",
    "3.a Is set E a subset of set A\n",
    " .b Is set E a strict subset of set A\n",
    " .c Create a set that is the intersection of set A and set B\n",
    " .d Create a set that is the union of sets C, D and E\n",
    " .e add 9 to the set\n",
    " .f Using == compare this set to the list in one_a\n",
    " .g Explain why they are not the same. What would you need to change if you\n",
    "    wanted this to be True?\n",
    " \n",
    "\n",
    "three_setA = {1,2,3,4,5}\n",
    "three_setB = {2,3,4,5,6}\n",
    "three_setC = {3,5,7,9}\n",
    "three_setD = {2,4,6,8}\n",
    "three_setE = {1,2,3,4}"
   ]
  },
  {
   "cell_type": "code",
   "execution_count": 59,
   "id": "d960de53",
   "metadata": {},
   "outputs": [],
   "source": [
    "three_setA = {1,2,3,4,5}\n",
    "three_setB = {2,3,4,5,6}\n",
    "three_setC = {3,5,7,9}\n",
    "three_setD = {2,4,6,8}\n",
    "three_setE = {1,2,3,4}"
   ]
  },
  {
   "cell_type": "code",
   "execution_count": 60,
   "id": "fba05195",
   "metadata": {},
   "outputs": [],
   "source": [
    "three_a = three_setE.issubset(three_setA)"
   ]
  },
  {
   "cell_type": "code",
   "execution_count": 61,
   "id": "98bbaa8f",
   "metadata": {},
   "outputs": [],
   "source": [
    "three_b = three_setE < three_setA"
   ]
  },
  {
   "cell_type": "code",
   "execution_count": 62,
   "id": "1d2ee693",
   "metadata": {},
   "outputs": [],
   "source": [
    "three_c = three_setA.intersection(three_setB)"
   ]
  },
  {
   "cell_type": "code",
   "execution_count": 63,
   "id": "93fbc30c",
   "metadata": {},
   "outputs": [],
   "source": [
    "three_d = three_setC.union(three_setD, three_setE)"
   ]
  },
  {
   "cell_type": "code",
   "execution_count": 65,
   "id": "c703338e",
   "metadata": {},
   "outputs": [],
   "source": [
    "three_e = three_d.copy()\n",
    "three_e.add(9)"
   ]
  },
  {
   "cell_type": "code",
   "execution_count": 66,
   "id": "0461dfe1",
   "metadata": {},
   "outputs": [],
   "source": [
    "three_f = three_d == one_a"
   ]
  },
  {
   "cell_type": "code",
   "execution_count": 70,
   "id": "2992b967",
   "metadata": {},
   "outputs": [],
   "source": [
    "# three g\n",
    "# a list and a set cannot be equal\n",
    "# need to take 0 out of one_a and make it a set to make it equal to three_d"
   ]
  },
  {
   "cell_type": "code",
   "execution_count": null,
   "id": "a953eb35",
   "metadata": {},
   "outputs": [],
   "source": [
    "# Problem 4: Changing variable types\n",
    "Problem 4: Changing variable types\n",
    "\n",
    "For each step you will modify a variable, then append the type of the variable\n",
    "to a list. Do not recreate the list variable, it should be a running list of \n",
    "types.\n",
    "\n",
    "4.a Create a variable of type int with the value of 8\n",
    " .b Create an empty list \n",
    " .c Using type(), add the type of 4.a to this list\n",
    " .d Add 0.39 to 4.c\n",
    " .e append the type of 0.39 to the list\n",
    " .f exponentiate to the -10, ie: 4.d^-10,(hint: there might be an artihmetic operator to do so) round it to no \n",
    "    decimal places, and append to list.\n",
    " .g append the type to the list\n"
   ]
  },
  {
   "cell_type": "code",
   "execution_count": 111,
   "id": "6f540e30",
   "metadata": {},
   "outputs": [],
   "source": [
    "type_list = []\n",
    "# a\n",
    "four_a = int(8)\n",
    "type_list.append(type(four_a))"
   ]
  },
  {
   "cell_type": "code",
   "execution_count": 112,
   "id": "18346e05",
   "metadata": {},
   "outputs": [],
   "source": [
    "# b\n",
    "four_b = []\n",
    "type_list.append(type(four_b))"
   ]
  },
  {
   "cell_type": "code",
   "execution_count": 113,
   "id": "ad2da9d7",
   "metadata": {},
   "outputs": [],
   "source": [
    "# c\n",
    "type_list.append(type(four_a))"
   ]
  },
  {
   "cell_type": "code",
   "execution_count": 114,
   "id": "5a940a19",
   "metadata": {},
   "outputs": [],
   "source": [
    "# d\n",
    "four_d = four_a + 0.39\n",
    "type_list.append(type(four_d))"
   ]
  },
  {
   "cell_type": "code",
   "execution_count": 115,
   "id": "ada0f5b9",
   "metadata": {},
   "outputs": [],
   "source": [
    "# e\n",
    "type_list.append(type(0.39))"
   ]
  },
  {
   "cell_type": "code",
   "execution_count": 116,
   "id": "45cbbbef",
   "metadata": {},
   "outputs": [],
   "source": [
    "# f\n",
    "four_f = round(four_d ** -10)\n",
    "type_list.append(type(four_f))"
   ]
  },
  {
   "cell_type": "code",
   "execution_count": 117,
   "id": "060e2c9b",
   "metadata": {},
   "outputs": [],
   "source": [
    "# g, I assume you want me to append the type of f\n",
    "type_list.append(type(four_f))"
   ]
  },
  {
   "cell_type": "code",
   "execution_count": null,
   "id": "9ecbc0f0",
   "metadata": {},
   "outputs": [],
   "source": [
    "# Problem 5: More variable type changes"
   ]
  },
  {
   "cell_type": "code",
   "execution_count": 126,
   "id": "166ae4cd",
   "metadata": {},
   "outputs": [],
   "source": [
    "# a\n",
    "five_a = {index: value for index, value in enumerate(type_list)}"
   ]
  },
  {
   "cell_type": "code",
   "execution_count": 128,
   "id": "9c7ad98e",
   "metadata": {},
   "outputs": [
    {
     "name": "stdout",
     "output_type": "stream",
     "text": [
      "{0: <class 'int'>, 1: <class 'list'>, 2: <class 'int'>, 3: <class 'float'>, 4: <class 'float'>, 5: <class 'int'>, 6: <class 'int'>}\n"
     ]
    }
   ],
   "source": [
    "print(five_a)"
   ]
  },
  {
   "cell_type": "code",
   "execution_count": 129,
   "id": "f6dea5b0",
   "metadata": {},
   "outputs": [],
   "source": [
    "# b\n",
    "five_b = str(four_f + 300)"
   ]
  },
  {
   "cell_type": "code",
   "execution_count": 130,
   "id": "72ae7e5d",
   "metadata": {},
   "outputs": [],
   "source": [
    "# c\n",
    "type_list.append(type(five_b))"
   ]
  },
  {
   "cell_type": "code",
   "execution_count": 131,
   "id": "0ac72b0a",
   "metadata": {},
   "outputs": [],
   "source": [
    "# d\n",
    "five_d = five_b[:2]"
   ]
  },
  {
   "cell_type": "code",
   "execution_count": 132,
   "id": "f6eee279",
   "metadata": {},
   "outputs": [],
   "source": [
    "# e\n",
    "type_list.append(type(five_d))"
   ]
  },
  {
   "cell_type": "code",
   "execution_count": 133,
   "id": "2b1069fe",
   "metadata": {},
   "outputs": [],
   "source": [
    "# f\n",
    "five_f = [int(i) for i in five_d]"
   ]
  },
  {
   "cell_type": "code",
   "execution_count": 134,
   "id": "beaa5b7a",
   "metadata": {},
   "outputs": [],
   "source": [
    "# g\n",
    "type_list.append(type(five_f))"
   ]
  },
  {
   "cell_type": "code",
   "execution_count": 135,
   "id": "038266ea",
   "metadata": {},
   "outputs": [],
   "source": [
    "# h\n",
    "type_list.append(type(three_setA))"
   ]
  },
  {
   "cell_type": "code",
   "execution_count": null,
   "id": "8b826c01",
   "metadata": {},
   "outputs": [],
   "source": []
  },
  {
   "cell_type": "code",
   "execution_count": null,
   "id": "25bd5e43",
   "metadata": {},
   "outputs": [],
   "source": []
  }
 ],
 "metadata": {
  "kernelspec": {
   "display_name": "Python 3 (ipykernel)",
   "language": "python",
   "name": "python3"
  },
  "language_info": {
   "codemirror_mode": {
    "name": "ipython",
    "version": 3
   },
   "file_extension": ".py",
   "mimetype": "text/x-python",
   "name": "python",
   "nbconvert_exporter": "python",
   "pygments_lexer": "ipython3",
   "version": "3.9.12"
  }
 },
 "nbformat": 4,
 "nbformat_minor": 5
}
