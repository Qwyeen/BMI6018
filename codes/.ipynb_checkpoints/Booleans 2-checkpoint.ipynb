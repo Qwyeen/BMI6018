{
 "cells": [
  {
   "cell_type": "code",
   "execution_count": 2,
   "id": "0d2aa458",
   "metadata": {},
   "outputs": [
    {
     "data": {
      "text/plain": [
       "1"
      ]
     },
     "execution_count": 2,
     "metadata": {},
     "output_type": "execute_result"
    }
   ],
   "source": [
    "# Booleans 2\n",
    "\"\"\"\n",
    "logical tracker = True\n",
    "\n",
    "logical tracker = logical tracker & logical tracker\n",
    "\n",
    "logical tracker = logical tracker | (logical tracker - logical tracker)\n",
    "\n",
    "logical tracker  = ?\n",
    "\n",
    "(note: here the response we are looking for the last assigned value of the logical tracker, denoted here by question mark (?) )\n",
    "\"\"\"\n",
    "tracker = True\n",
    "tracker = tracker & tracker\n",
    "tracker = tracker | (tracker - tracker)\n",
    "tracker"
   ]
  },
  {
   "cell_type": "code",
   "execution_count": null,
   "id": "45d138d1",
   "metadata": {},
   "outputs": [],
   "source": []
  }
 ],
 "metadata": {
  "kernelspec": {
   "display_name": "Python 3 (ipykernel)",
   "language": "python",
   "name": "python3"
  },
  "language_info": {
   "codemirror_mode": {
    "name": "ipython",
    "version": 3
   },
   "file_extension": ".py",
   "mimetype": "text/x-python",
   "name": "python",
   "nbconvert_exporter": "python",
   "pygments_lexer": "ipython3",
   "version": "3.9.12"
  }
 },
 "nbformat": 4,
 "nbformat_minor": 5
}
