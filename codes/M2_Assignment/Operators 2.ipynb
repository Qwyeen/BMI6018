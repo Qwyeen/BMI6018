{
 "cells": [
  {
   "cell_type": "code",
   "execution_count": 6,
   "id": "97edf388",
   "metadata": {},
   "outputs": [
    {
     "name": "stdout",
     "output_type": "stream",
     "text": [
      "10\n",
      "<class 'int'>\n",
      "37\n",
      "<class 'str'>\n"
     ]
    }
   ],
   "source": [
    "# Operators 2\n",
    "# Explain how the \"+\", addition operation works differently for integers and strings.\n",
    "a = 3+7\n",
    "print(a)\n",
    "print(type(a))\n",
    "b = '3'+'7'\n",
    "print(b)\n",
    "print(type(b))"
   ]
  },
  {
   "cell_type": "code",
   "execution_count": null,
   "id": "513cbb08",
   "metadata": {},
   "outputs": [],
   "source": []
  }
 ],
 "metadata": {
  "kernelspec": {
   "display_name": "Python 3 (ipykernel)",
   "language": "python",
   "name": "python3"
  },
  "language_info": {
   "codemirror_mode": {
    "name": "ipython",
    "version": 3
   },
   "file_extension": ".py",
   "mimetype": "text/x-python",
   "name": "python",
   "nbconvert_exporter": "python",
   "pygments_lexer": "ipython3",
   "version": "3.9.12"
  }
 },
 "nbformat": 4,
 "nbformat_minor": 5
}
